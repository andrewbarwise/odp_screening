{
 "cells": [
  {
   "cell_type": "markdown",
   "metadata": {},
   "source": [
    "The aim of this notebook is to take the raw data and transform into a clean dataset set for modelling."
   ]
  },
  {
   "cell_type": "code",
   "execution_count": 1,
   "metadata": {},
   "outputs": [],
   "source": [
    "import pandas as pd"
   ]
  },
  {
   "cell_type": "code",
   "execution_count": 2,
   "metadata": {},
   "outputs": [],
   "source": [
    "order_numbers = pd.read_excel('data/data_task.xlsx', sheet_name='order_numbers')\n",
    "transaction_data = pd.read_excel('data/data_task.xlsx', sheet_name='transaction_data')\n",
    "reported_data = pd.read_excel('data/data_task.xlsx', sheet_name='reported_data')"
   ]
  },
  {
   "cell_type": "markdown",
   "metadata": {},
   "source": [
    "# Clean the order numbers df\n",
    "    - order df by date\n",
    "    - ensure the order numbers value increase (create boolean column) "
   ]
  },
  {
   "cell_type": "code",
   "execution_count": 3,
   "metadata": {},
   "outputs": [
    {
     "data": {
      "text/plain": [
       "(856, 2)"
      ]
     },
     "execution_count": 3,
     "metadata": {},
     "output_type": "execute_result"
    }
   ],
   "source": [
    "order_numbers.shape"
   ]
  },
  {
   "cell_type": "code",
   "execution_count": 4,
   "metadata": {},
   "outputs": [
    {
     "data": {
      "text/html": [
       "<div>\n",
       "<style scoped>\n",
       "    .dataframe tbody tr th:only-of-type {\n",
       "        vertical-align: middle;\n",
       "    }\n",
       "\n",
       "    .dataframe tbody tr th {\n",
       "        vertical-align: top;\n",
       "    }\n",
       "\n",
       "    .dataframe thead th {\n",
       "        text-align: right;\n",
       "    }\n",
       "</style>\n",
       "<table border=\"1\" class=\"dataframe\">\n",
       "  <thead>\n",
       "    <tr style=\"text-align: right;\">\n",
       "      <th></th>\n",
       "      <th>date</th>\n",
       "      <th>order_number</th>\n",
       "    </tr>\n",
       "  </thead>\n",
       "  <tbody>\n",
       "    <tr>\n",
       "      <th>0</th>\n",
       "      <td>2018-01-07</td>\n",
       "      <td>33841906</td>\n",
       "    </tr>\n",
       "    <tr>\n",
       "      <th>1</th>\n",
       "      <td>2018-01-22</td>\n",
       "      <td>34008921</td>\n",
       "    </tr>\n",
       "    <tr>\n",
       "      <th>2</th>\n",
       "      <td>2018-01-25</td>\n",
       "      <td>34397468</td>\n",
       "    </tr>\n",
       "    <tr>\n",
       "      <th>3</th>\n",
       "      <td>2018-02-06</td>\n",
       "      <td>34434432</td>\n",
       "    </tr>\n",
       "    <tr>\n",
       "      <th>4</th>\n",
       "      <td>2018-02-08</td>\n",
       "      <td>34579365</td>\n",
       "    </tr>\n",
       "  </tbody>\n",
       "</table>\n",
       "</div>"
      ],
      "text/plain": [
       "        date  order_number\n",
       "0 2018-01-07      33841906\n",
       "1 2018-01-22      34008921\n",
       "2 2018-01-25      34397468\n",
       "3 2018-02-06      34434432\n",
       "4 2018-02-08      34579365"
      ]
     },
     "execution_count": 4,
     "metadata": {},
     "output_type": "execute_result"
    }
   ],
   "source": [
    "order_numbers.head()"
   ]
  },
  {
   "cell_type": "code",
   "execution_count": 5,
   "metadata": {},
   "outputs": [
    {
     "data": {
      "text/plain": [
       "date            datetime64[ns]\n",
       "order_number             int64\n",
       "dtype: object"
      ]
     },
     "execution_count": 5,
     "metadata": {},
     "output_type": "execute_result"
    }
   ],
   "source": [
    "order_numbers.dtypes"
   ]
  },
  {
   "cell_type": "code",
   "execution_count": 6,
   "metadata": {},
   "outputs": [],
   "source": [
    "def validate_order(df, date_col, order_col):\n",
    "    # Ensure DataFrame is sorted by date\n",
    "    df = df.sort_values(by=date_col).reset_index(drop=True)\n",
    "\n",
    "    # Create Boolean column to check if order number is higher than the previous row\n",
    "    df[\"order_increasing\"] = df[order_col].diff() > 0  \n",
    "\n",
    "    # Set the first row to True (as there's no previous row to compare)\n",
    "    df.loc[0, \"order_increasing\"] = True \n",
    "\n",
    "    return df"
   ]
  },
  {
   "cell_type": "code",
   "execution_count": 7,
   "metadata": {},
   "outputs": [
    {
     "data": {
      "text/html": [
       "<div>\n",
       "<style scoped>\n",
       "    .dataframe tbody tr th:only-of-type {\n",
       "        vertical-align: middle;\n",
       "    }\n",
       "\n",
       "    .dataframe tbody tr th {\n",
       "        vertical-align: top;\n",
       "    }\n",
       "\n",
       "    .dataframe thead th {\n",
       "        text-align: right;\n",
       "    }\n",
       "</style>\n",
       "<table border=\"1\" class=\"dataframe\">\n",
       "  <thead>\n",
       "    <tr style=\"text-align: right;\">\n",
       "      <th></th>\n",
       "      <th>date</th>\n",
       "      <th>order_number</th>\n",
       "      <th>order_increasing</th>\n",
       "    </tr>\n",
       "  </thead>\n",
       "  <tbody>\n",
       "    <tr>\n",
       "      <th>0</th>\n",
       "      <td>2018-01-07</td>\n",
       "      <td>33841906</td>\n",
       "      <td>True</td>\n",
       "    </tr>\n",
       "    <tr>\n",
       "      <th>1</th>\n",
       "      <td>2018-01-22</td>\n",
       "      <td>34008921</td>\n",
       "      <td>True</td>\n",
       "    </tr>\n",
       "    <tr>\n",
       "      <th>2</th>\n",
       "      <td>2018-01-25</td>\n",
       "      <td>34397468</td>\n",
       "      <td>True</td>\n",
       "    </tr>\n",
       "    <tr>\n",
       "      <th>3</th>\n",
       "      <td>2018-02-06</td>\n",
       "      <td>34434432</td>\n",
       "      <td>True</td>\n",
       "    </tr>\n",
       "    <tr>\n",
       "      <th>4</th>\n",
       "      <td>2018-02-08</td>\n",
       "      <td>34579365</td>\n",
       "      <td>True</td>\n",
       "    </tr>\n",
       "    <tr>\n",
       "      <th>...</th>\n",
       "      <td>...</td>\n",
       "      <td>...</td>\n",
       "      <td>...</td>\n",
       "    </tr>\n",
       "    <tr>\n",
       "      <th>851</th>\n",
       "      <td>2022-12-26</td>\n",
       "      <td>89053562</td>\n",
       "      <td>True</td>\n",
       "    </tr>\n",
       "    <tr>\n",
       "      <th>852</th>\n",
       "      <td>2022-12-27</td>\n",
       "      <td>89078365</td>\n",
       "      <td>True</td>\n",
       "    </tr>\n",
       "    <tr>\n",
       "      <th>853</th>\n",
       "      <td>2022-12-28</td>\n",
       "      <td>89109007</td>\n",
       "      <td>True</td>\n",
       "    </tr>\n",
       "    <tr>\n",
       "      <th>854</th>\n",
       "      <td>2022-12-29</td>\n",
       "      <td>89139373</td>\n",
       "      <td>True</td>\n",
       "    </tr>\n",
       "    <tr>\n",
       "      <th>855</th>\n",
       "      <td>2022-12-30</td>\n",
       "      <td>89172576</td>\n",
       "      <td>True</td>\n",
       "    </tr>\n",
       "  </tbody>\n",
       "</table>\n",
       "<p>856 rows × 3 columns</p>\n",
       "</div>"
      ],
      "text/plain": [
       "          date  order_number  order_increasing\n",
       "0   2018-01-07      33841906              True\n",
       "1   2018-01-22      34008921              True\n",
       "2   2018-01-25      34397468              True\n",
       "3   2018-02-06      34434432              True\n",
       "4   2018-02-08      34579365              True\n",
       "..         ...           ...               ...\n",
       "851 2022-12-26      89053562              True\n",
       "852 2022-12-27      89078365              True\n",
       "853 2022-12-28      89109007              True\n",
       "854 2022-12-29      89139373              True\n",
       "855 2022-12-30      89172576              True\n",
       "\n",
       "[856 rows x 3 columns]"
      ]
     },
     "execution_count": 7,
     "metadata": {},
     "output_type": "execute_result"
    }
   ],
   "source": [
    "orders1 = validate_order(order_numbers, 'date', 'order_number')\n",
    "orders1"
   ]
  },
  {
   "cell_type": "code",
   "execution_count": 8,
   "metadata": {},
   "outputs": [
    {
     "data": {
      "text/plain": [
       "order_increasing\n",
       "True     638\n",
       "False    218\n",
       "Name: count, dtype: int64"
      ]
     },
     "execution_count": 8,
     "metadata": {},
     "output_type": "execute_result"
    }
   ],
   "source": [
    "orders1.value_counts('order_increasing')"
   ]
  },
  {
   "cell_type": "code",
   "execution_count": 9,
   "metadata": {},
   "outputs": [
    {
     "data": {
      "text/plain": [
       "order_increasing\n",
       "True    638\n",
       "Name: count, dtype: int64"
      ]
     },
     "execution_count": 9,
     "metadata": {},
     "output_type": "execute_result"
    }
   ],
   "source": [
    "orders2 = orders1[orders1['order_increasing'] == True]\n",
    "orders2.value_counts('order_increasing')"
   ]
  },
  {
   "cell_type": "code",
   "execution_count": 10,
   "metadata": {},
   "outputs": [
    {
     "data": {
      "text/html": [
       "<div>\n",
       "<style scoped>\n",
       "    .dataframe tbody tr th:only-of-type {\n",
       "        vertical-align: middle;\n",
       "    }\n",
       "\n",
       "    .dataframe tbody tr th {\n",
       "        vertical-align: top;\n",
       "    }\n",
       "\n",
       "    .dataframe thead th {\n",
       "        text-align: right;\n",
       "    }\n",
       "</style>\n",
       "<table border=\"1\" class=\"dataframe\">\n",
       "  <thead>\n",
       "    <tr style=\"text-align: right;\">\n",
       "      <th></th>\n",
       "      <th>date</th>\n",
       "      <th>order_number</th>\n",
       "      <th>order_increasing</th>\n",
       "    </tr>\n",
       "  </thead>\n",
       "  <tbody>\n",
       "    <tr>\n",
       "      <th>0</th>\n",
       "      <td>2018-01-07</td>\n",
       "      <td>33841906</td>\n",
       "      <td>True</td>\n",
       "    </tr>\n",
       "    <tr>\n",
       "      <th>1</th>\n",
       "      <td>2018-01-22</td>\n",
       "      <td>34008921</td>\n",
       "      <td>True</td>\n",
       "    </tr>\n",
       "    <tr>\n",
       "      <th>2</th>\n",
       "      <td>2018-01-25</td>\n",
       "      <td>34397468</td>\n",
       "      <td>True</td>\n",
       "    </tr>\n",
       "    <tr>\n",
       "      <th>3</th>\n",
       "      <td>2018-02-06</td>\n",
       "      <td>34434432</td>\n",
       "      <td>True</td>\n",
       "    </tr>\n",
       "    <tr>\n",
       "      <th>4</th>\n",
       "      <td>2018-02-08</td>\n",
       "      <td>34579365</td>\n",
       "      <td>True</td>\n",
       "    </tr>\n",
       "  </tbody>\n",
       "</table>\n",
       "</div>"
      ],
      "text/plain": [
       "        date  order_number  order_increasing\n",
       "0 2018-01-07      33841906              True\n",
       "1 2018-01-22      34008921              True\n",
       "2 2018-01-25      34397468              True\n",
       "3 2018-02-06      34434432              True\n",
       "4 2018-02-08      34579365              True"
      ]
     },
     "execution_count": 10,
     "metadata": {},
     "output_type": "execute_result"
    }
   ],
   "source": [
    "orders2.head()"
   ]
  },
  {
   "cell_type": "code",
   "execution_count": 11,
   "metadata": {},
   "outputs": [
    {
     "data": {
      "text/html": [
       "<div>\n",
       "<style scoped>\n",
       "    .dataframe tbody tr th:only-of-type {\n",
       "        vertical-align: middle;\n",
       "    }\n",
       "\n",
       "    .dataframe tbody tr th {\n",
       "        vertical-align: top;\n",
       "    }\n",
       "\n",
       "    .dataframe thead th {\n",
       "        text-align: right;\n",
       "    }\n",
       "</style>\n",
       "<table border=\"1\" class=\"dataframe\">\n",
       "  <thead>\n",
       "    <tr style=\"text-align: right;\">\n",
       "      <th></th>\n",
       "      <th>date</th>\n",
       "      <th>order_number</th>\n",
       "    </tr>\n",
       "  </thead>\n",
       "  <tbody>\n",
       "    <tr>\n",
       "      <th>0</th>\n",
       "      <td>2018-01-07</td>\n",
       "      <td>33841906</td>\n",
       "    </tr>\n",
       "    <tr>\n",
       "      <th>1</th>\n",
       "      <td>2018-01-22</td>\n",
       "      <td>34008921</td>\n",
       "    </tr>\n",
       "    <tr>\n",
       "      <th>2</th>\n",
       "      <td>2018-01-25</td>\n",
       "      <td>34397468</td>\n",
       "    </tr>\n",
       "    <tr>\n",
       "      <th>3</th>\n",
       "      <td>2018-02-06</td>\n",
       "      <td>34434432</td>\n",
       "    </tr>\n",
       "    <tr>\n",
       "      <th>4</th>\n",
       "      <td>2018-02-08</td>\n",
       "      <td>34579365</td>\n",
       "    </tr>\n",
       "  </tbody>\n",
       "</table>\n",
       "</div>"
      ],
      "text/plain": [
       "        date  order_number\n",
       "0 2018-01-07      33841906\n",
       "1 2018-01-22      34008921\n",
       "2 2018-01-25      34397468\n",
       "3 2018-02-06      34434432\n",
       "4 2018-02-08      34579365"
      ]
     },
     "execution_count": 11,
     "metadata": {},
     "output_type": "execute_result"
    }
   ],
   "source": [
    "orders3 = orders2.drop(columns=['order_increasing'])\n",
    "orders3.head()"
   ]
  },
  {
   "cell_type": "code",
   "execution_count": 12,
   "metadata": {},
   "outputs": [
    {
     "name": "stderr",
     "output_type": "stream",
     "text": [
      "/var/folders/nv/lzp9ffbj6cs24kjrpcj0q1ym0000gn/T/ipykernel_33640/3528067125.py:5: FutureWarning: 'Q' is deprecated and will be removed in a future version, please use 'QE' instead.\n",
      "  orders_quarterly = orders3.resample(\"Q\").mean().reset_index()\n"
     ]
    },
    {
     "data": {
      "text/html": [
       "<div>\n",
       "<style scoped>\n",
       "    .dataframe tbody tr th:only-of-type {\n",
       "        vertical-align: middle;\n",
       "    }\n",
       "\n",
       "    .dataframe tbody tr th {\n",
       "        vertical-align: top;\n",
       "    }\n",
       "\n",
       "    .dataframe thead th {\n",
       "        text-align: right;\n",
       "    }\n",
       "</style>\n",
       "<table border=\"1\" class=\"dataframe\">\n",
       "  <thead>\n",
       "    <tr style=\"text-align: right;\">\n",
       "      <th></th>\n",
       "      <th>order_number</th>\n",
       "      <th>quarter</th>\n",
       "    </tr>\n",
       "  </thead>\n",
       "  <tbody>\n",
       "    <tr>\n",
       "      <th>0</th>\n",
       "      <td>3.502934e+07</td>\n",
       "      <td>2018Q1</td>\n",
       "    </tr>\n",
       "    <tr>\n",
       "      <th>1</th>\n",
       "      <td>3.688433e+07</td>\n",
       "      <td>2018Q2</td>\n",
       "    </tr>\n",
       "    <tr>\n",
       "      <th>2</th>\n",
       "      <td>3.870401e+07</td>\n",
       "      <td>2018Q3</td>\n",
       "    </tr>\n",
       "    <tr>\n",
       "      <th>3</th>\n",
       "      <td>4.096009e+07</td>\n",
       "      <td>2018Q4</td>\n",
       "    </tr>\n",
       "    <tr>\n",
       "      <th>4</th>\n",
       "      <td>4.327519e+07</td>\n",
       "      <td>2019Q1</td>\n",
       "    </tr>\n",
       "  </tbody>\n",
       "</table>\n",
       "</div>"
      ],
      "text/plain": [
       "   order_number quarter\n",
       "0  3.502934e+07  2018Q1\n",
       "1  3.688433e+07  2018Q2\n",
       "2  3.870401e+07  2018Q3\n",
       "3  4.096009e+07  2018Q4\n",
       "4  4.327519e+07  2019Q1"
      ]
     },
     "execution_count": 12,
     "metadata": {},
     "output_type": "execute_result"
    }
   ],
   "source": [
    "# Resample to quarterly frequency and aggregate using mean (or sum if necessary)\n",
    "# Set 'date' as the index for resampling\n",
    "orders3 = orders3.set_index(\"date\")\n",
    "\n",
    "orders_quarterly = orders3.resample(\"Q\").mean().reset_index()\n",
    "\n",
    "orders_quarterly['quarter'] = orders_quarterly['date'].dt.to_period('Q').astype(str)\n",
    "\n",
    "orders_quarterly = orders_quarterly.drop(columns=['date'])\n",
    "\n",
    "orders_quarterly.head()"
   ]
  },
  {
   "cell_type": "code",
   "execution_count": 13,
   "metadata": {},
   "outputs": [
    {
     "data": {
      "text/plain": [
       "(20, 2)"
      ]
     },
     "execution_count": 13,
     "metadata": {},
     "output_type": "execute_result"
    }
   ],
   "source": [
    "orders_quarterly.shape"
   ]
  },
  {
   "cell_type": "markdown",
   "metadata": {},
   "source": [
    "# Transaction data"
   ]
  },
  {
   "cell_type": "code",
   "execution_count": 14,
   "metadata": {},
   "outputs": [
    {
     "data": {
      "text/plain": [
       "(1826, 4)"
      ]
     },
     "execution_count": 14,
     "metadata": {},
     "output_type": "execute_result"
    }
   ],
   "source": [
    "transaction_data.shape"
   ]
  },
  {
   "cell_type": "code",
   "execution_count": 15,
   "metadata": {},
   "outputs": [
    {
     "data": {
      "text/plain": [
       "date                         datetime64[ns]\n",
       "total_spend_index                   float64\n",
       "gross_orders_index                  float64\n",
       "weekly_active_users_index           float64\n",
       "dtype: object"
      ]
     },
     "execution_count": 15,
     "metadata": {},
     "output_type": "execute_result"
    }
   ],
   "source": [
    "transaction_data.dtypes"
   ]
  },
  {
   "cell_type": "code",
   "execution_count": 16,
   "metadata": {},
   "outputs": [
    {
     "data": {
      "text/html": [
       "<div>\n",
       "<style scoped>\n",
       "    .dataframe tbody tr th:only-of-type {\n",
       "        vertical-align: middle;\n",
       "    }\n",
       "\n",
       "    .dataframe tbody tr th {\n",
       "        vertical-align: top;\n",
       "    }\n",
       "\n",
       "    .dataframe thead th {\n",
       "        text-align: right;\n",
       "    }\n",
       "</style>\n",
       "<table border=\"1\" class=\"dataframe\">\n",
       "  <thead>\n",
       "    <tr style=\"text-align: right;\">\n",
       "      <th></th>\n",
       "      <th>date</th>\n",
       "      <th>total_spend_index</th>\n",
       "      <th>gross_orders_index</th>\n",
       "      <th>weekly_active_users_index</th>\n",
       "    </tr>\n",
       "  </thead>\n",
       "  <tbody>\n",
       "    <tr>\n",
       "      <th>0</th>\n",
       "      <td>2018-01-01</td>\n",
       "      <td>0.052537</td>\n",
       "      <td>0.158983</td>\n",
       "      <td>1.563652</td>\n",
       "    </tr>\n",
       "    <tr>\n",
       "      <th>1</th>\n",
       "      <td>2018-01-02</td>\n",
       "      <td>0.839176</td>\n",
       "      <td>1.430843</td>\n",
       "      <td>1.628314</td>\n",
       "    </tr>\n",
       "    <tr>\n",
       "      <th>2</th>\n",
       "      <td>2018-01-03</td>\n",
       "      <td>0.182855</td>\n",
       "      <td>0.476948</td>\n",
       "      <td>1.633740</td>\n",
       "    </tr>\n",
       "    <tr>\n",
       "      <th>3</th>\n",
       "      <td>2018-01-04</td>\n",
       "      <td>2.364675</td>\n",
       "      <td>1.907790</td>\n",
       "      <td>1.657706</td>\n",
       "    </tr>\n",
       "    <tr>\n",
       "      <th>4</th>\n",
       "      <td>2018-01-05</td>\n",
       "      <td>0.687484</td>\n",
       "      <td>1.271860</td>\n",
       "      <td>1.679863</td>\n",
       "    </tr>\n",
       "  </tbody>\n",
       "</table>\n",
       "</div>"
      ],
      "text/plain": [
       "        date  total_spend_index  gross_orders_index  weekly_active_users_index\n",
       "0 2018-01-01           0.052537            0.158983                   1.563652\n",
       "1 2018-01-02           0.839176            1.430843                   1.628314\n",
       "2 2018-01-03           0.182855            0.476948                   1.633740\n",
       "3 2018-01-04           2.364675            1.907790                   1.657706\n",
       "4 2018-01-05           0.687484            1.271860                   1.679863"
      ]
     },
     "execution_count": 16,
     "metadata": {},
     "output_type": "execute_result"
    }
   ],
   "source": [
    "transaction_data.head()"
   ]
  },
  {
   "cell_type": "code",
   "execution_count": 17,
   "metadata": {},
   "outputs": [],
   "source": [
    "def date_sorting(df, date_col):\n",
    "\n",
    "    # Ensure DataFrame is sorted by date\n",
    "    df = df.sort_values(by=date_col).reset_index(drop=True)\n",
    "\n",
    "    return df"
   ]
  },
  {
   "cell_type": "code",
   "execution_count": 18,
   "metadata": {},
   "outputs": [
    {
     "data": {
      "text/html": [
       "<div>\n",
       "<style scoped>\n",
       "    .dataframe tbody tr th:only-of-type {\n",
       "        vertical-align: middle;\n",
       "    }\n",
       "\n",
       "    .dataframe tbody tr th {\n",
       "        vertical-align: top;\n",
       "    }\n",
       "\n",
       "    .dataframe thead th {\n",
       "        text-align: right;\n",
       "    }\n",
       "</style>\n",
       "<table border=\"1\" class=\"dataframe\">\n",
       "  <thead>\n",
       "    <tr style=\"text-align: right;\">\n",
       "      <th></th>\n",
       "      <th>date</th>\n",
       "      <th>total_spend_index</th>\n",
       "      <th>gross_orders_index</th>\n",
       "      <th>weekly_active_users_index</th>\n",
       "    </tr>\n",
       "  </thead>\n",
       "  <tbody>\n",
       "    <tr>\n",
       "      <th>0</th>\n",
       "      <td>2018-01-01</td>\n",
       "      <td>0.052537</td>\n",
       "      <td>0.158983</td>\n",
       "      <td>1.563652</td>\n",
       "    </tr>\n",
       "    <tr>\n",
       "      <th>1</th>\n",
       "      <td>2018-01-02</td>\n",
       "      <td>0.839176</td>\n",
       "      <td>1.430843</td>\n",
       "      <td>1.628314</td>\n",
       "    </tr>\n",
       "    <tr>\n",
       "      <th>2</th>\n",
       "      <td>2018-01-03</td>\n",
       "      <td>0.182855</td>\n",
       "      <td>0.476948</td>\n",
       "      <td>1.633740</td>\n",
       "    </tr>\n",
       "    <tr>\n",
       "      <th>3</th>\n",
       "      <td>2018-01-04</td>\n",
       "      <td>2.364675</td>\n",
       "      <td>1.907790</td>\n",
       "      <td>1.657706</td>\n",
       "    </tr>\n",
       "    <tr>\n",
       "      <th>4</th>\n",
       "      <td>2018-01-05</td>\n",
       "      <td>0.687484</td>\n",
       "      <td>1.271860</td>\n",
       "      <td>1.679863</td>\n",
       "    </tr>\n",
       "  </tbody>\n",
       "</table>\n",
       "</div>"
      ],
      "text/plain": [
       "        date  total_spend_index  gross_orders_index  weekly_active_users_index\n",
       "0 2018-01-01           0.052537            0.158983                   1.563652\n",
       "1 2018-01-02           0.839176            1.430843                   1.628314\n",
       "2 2018-01-03           0.182855            0.476948                   1.633740\n",
       "3 2018-01-04           2.364675            1.907790                   1.657706\n",
       "4 2018-01-05           0.687484            1.271860                   1.679863"
      ]
     },
     "execution_count": 18,
     "metadata": {},
     "output_type": "execute_result"
    }
   ],
   "source": [
    "transaction1 = date_sorting(transaction_data, 'date')\n",
    "transaction1.head()"
   ]
  },
  {
   "cell_type": "code",
   "execution_count": 19,
   "metadata": {},
   "outputs": [
    {
     "name": "stderr",
     "output_type": "stream",
     "text": [
      "/var/folders/nv/lzp9ffbj6cs24kjrpcj0q1ym0000gn/T/ipykernel_33640/3210350031.py:5: FutureWarning: 'Q' is deprecated and will be removed in a future version, please use 'QE' instead.\n",
      "  transaction_quarterly = transaction1.resample(\"Q\").mean().reset_index()\n"
     ]
    },
    {
     "data": {
      "text/html": [
       "<div>\n",
       "<style scoped>\n",
       "    .dataframe tbody tr th:only-of-type {\n",
       "        vertical-align: middle;\n",
       "    }\n",
       "\n",
       "    .dataframe tbody tr th {\n",
       "        vertical-align: top;\n",
       "    }\n",
       "\n",
       "    .dataframe thead th {\n",
       "        text-align: right;\n",
       "    }\n",
       "</style>\n",
       "<table border=\"1\" class=\"dataframe\">\n",
       "  <thead>\n",
       "    <tr style=\"text-align: right;\">\n",
       "      <th></th>\n",
       "      <th>total_spend_index</th>\n",
       "      <th>gross_orders_index</th>\n",
       "      <th>weekly_active_users_index</th>\n",
       "      <th>quarter</th>\n",
       "    </tr>\n",
       "  </thead>\n",
       "  <tbody>\n",
       "    <tr>\n",
       "      <th>0</th>\n",
       "      <td>1.020328</td>\n",
       "      <td>1.231231</td>\n",
       "      <td>2.212380</td>\n",
       "      <td>2018Q1</td>\n",
       "    </tr>\n",
       "    <tr>\n",
       "      <th>1</th>\n",
       "      <td>3.907097</td>\n",
       "      <td>3.719492</td>\n",
       "      <td>5.080265</td>\n",
       "      <td>2018Q2</td>\n",
       "    </tr>\n",
       "    <tr>\n",
       "      <th>2</th>\n",
       "      <td>9.063225</td>\n",
       "      <td>9.020529</td>\n",
       "      <td>12.989319</td>\n",
       "      <td>2018Q3</td>\n",
       "    </tr>\n",
       "    <tr>\n",
       "      <th>3</th>\n",
       "      <td>15.179657</td>\n",
       "      <td>16.395936</td>\n",
       "      <td>19.686191</td>\n",
       "      <td>2018Q4</td>\n",
       "    </tr>\n",
       "    <tr>\n",
       "      <th>4</th>\n",
       "      <td>13.636270</td>\n",
       "      <td>14.917859</td>\n",
       "      <td>25.002324</td>\n",
       "      <td>2019Q1</td>\n",
       "    </tr>\n",
       "  </tbody>\n",
       "</table>\n",
       "</div>"
      ],
      "text/plain": [
       "   total_spend_index  gross_orders_index  weekly_active_users_index quarter\n",
       "0           1.020328            1.231231                   2.212380  2018Q1\n",
       "1           3.907097            3.719492                   5.080265  2018Q2\n",
       "2           9.063225            9.020529                  12.989319  2018Q3\n",
       "3          15.179657           16.395936                  19.686191  2018Q4\n",
       "4          13.636270           14.917859                  25.002324  2019Q1"
      ]
     },
     "execution_count": 19,
     "metadata": {},
     "output_type": "execute_result"
    }
   ],
   "source": [
    "\n",
    "# Set 'date' as the index for resampling\n",
    "transaction1 = transaction1.set_index(\"date\")\n",
    "\n",
    "# Resample to quarterly frequency and aggregate using mean (or sum if necessary)\n",
    "transaction_quarterly = transaction1.resample(\"Q\").mean().reset_index()\n",
    "\n",
    "transaction_quarterly['quarter'] = transaction_quarterly['date'].dt.to_period('Q').astype(str)\n",
    "\n",
    "transaction_quarterly = transaction_quarterly.drop(columns=['date'])\n",
    "\n",
    "transaction_quarterly.head()"
   ]
  },
  {
   "cell_type": "code",
   "execution_count": 20,
   "metadata": {},
   "outputs": [
    {
     "data": {
      "text/plain": [
       "(20, 4)"
      ]
     },
     "execution_count": 20,
     "metadata": {},
     "output_type": "execute_result"
    }
   ],
   "source": [
    "transaction_quarterly.shape"
   ]
  },
  {
   "cell_type": "markdown",
   "metadata": {},
   "source": [
    "# join the order number data onto the transaction data, (left join to keep all the transaction data)"
   ]
  },
  {
   "cell_type": "code",
   "execution_count": 21,
   "metadata": {},
   "outputs": [
    {
     "data": {
      "text/html": [
       "<div>\n",
       "<style scoped>\n",
       "    .dataframe tbody tr th:only-of-type {\n",
       "        vertical-align: middle;\n",
       "    }\n",
       "\n",
       "    .dataframe tbody tr th {\n",
       "        vertical-align: top;\n",
       "    }\n",
       "\n",
       "    .dataframe thead th {\n",
       "        text-align: right;\n",
       "    }\n",
       "</style>\n",
       "<table border=\"1\" class=\"dataframe\">\n",
       "  <thead>\n",
       "    <tr style=\"text-align: right;\">\n",
       "      <th></th>\n",
       "      <th>total_spend_index</th>\n",
       "      <th>gross_orders_index</th>\n",
       "      <th>weekly_active_users_index</th>\n",
       "      <th>quarter</th>\n",
       "      <th>order_number</th>\n",
       "    </tr>\n",
       "  </thead>\n",
       "  <tbody>\n",
       "    <tr>\n",
       "      <th>0</th>\n",
       "      <td>1.020328</td>\n",
       "      <td>1.231231</td>\n",
       "      <td>2.212380</td>\n",
       "      <td>2018Q1</td>\n",
       "      <td>3.502934e+07</td>\n",
       "    </tr>\n",
       "    <tr>\n",
       "      <th>1</th>\n",
       "      <td>3.907097</td>\n",
       "      <td>3.719492</td>\n",
       "      <td>5.080265</td>\n",
       "      <td>2018Q2</td>\n",
       "      <td>3.688433e+07</td>\n",
       "    </tr>\n",
       "    <tr>\n",
       "      <th>2</th>\n",
       "      <td>9.063225</td>\n",
       "      <td>9.020529</td>\n",
       "      <td>12.989319</td>\n",
       "      <td>2018Q3</td>\n",
       "      <td>3.870401e+07</td>\n",
       "    </tr>\n",
       "    <tr>\n",
       "      <th>3</th>\n",
       "      <td>15.179657</td>\n",
       "      <td>16.395936</td>\n",
       "      <td>19.686191</td>\n",
       "      <td>2018Q4</td>\n",
       "      <td>4.096009e+07</td>\n",
       "    </tr>\n",
       "    <tr>\n",
       "      <th>4</th>\n",
       "      <td>13.636270</td>\n",
       "      <td>14.917859</td>\n",
       "      <td>25.002324</td>\n",
       "      <td>2019Q1</td>\n",
       "      <td>4.327519e+07</td>\n",
       "    </tr>\n",
       "    <tr>\n",
       "      <th>5</th>\n",
       "      <td>23.909396</td>\n",
       "      <td>23.957442</td>\n",
       "      <td>32.189396</td>\n",
       "      <td>2019Q2</td>\n",
       "      <td>4.550379e+07</td>\n",
       "    </tr>\n",
       "    <tr>\n",
       "      <th>6</th>\n",
       "      <td>27.290086</td>\n",
       "      <td>28.153729</td>\n",
       "      <td>41.530273</td>\n",
       "      <td>2019Q3</td>\n",
       "      <td>4.774790e+07</td>\n",
       "    </tr>\n",
       "    <tr>\n",
       "      <th>7</th>\n",
       "      <td>45.263284</td>\n",
       "      <td>46.241446</td>\n",
       "      <td>54.220241</td>\n",
       "      <td>2019Q4</td>\n",
       "      <td>5.049820e+07</td>\n",
       "    </tr>\n",
       "    <tr>\n",
       "      <th>8</th>\n",
       "      <td>42.695804</td>\n",
       "      <td>51.010675</td>\n",
       "      <td>73.601916</td>\n",
       "      <td>2020Q1</td>\n",
       "      <td>5.304286e+07</td>\n",
       "    </tr>\n",
       "    <tr>\n",
       "      <th>9</th>\n",
       "      <td>82.694949</td>\n",
       "      <td>95.808802</td>\n",
       "      <td>99.068715</td>\n",
       "      <td>2020Q2</td>\n",
       "      <td>5.619964e+07</td>\n",
       "    </tr>\n",
       "    <tr>\n",
       "      <th>10</th>\n",
       "      <td>112.626123</td>\n",
       "      <td>123.970070</td>\n",
       "      <td>130.651000</td>\n",
       "      <td>2020Q3</td>\n",
       "      <td>5.864788e+07</td>\n",
       "    </tr>\n",
       "    <tr>\n",
       "      <th>11</th>\n",
       "      <td>155.048659</td>\n",
       "      <td>175.637658</td>\n",
       "      <td>150.094900</td>\n",
       "      <td>2020Q4</td>\n",
       "      <td>6.210787e+07</td>\n",
       "    </tr>\n",
       "    <tr>\n",
       "      <th>12</th>\n",
       "      <td>149.095657</td>\n",
       "      <td>171.724077</td>\n",
       "      <td>161.821607</td>\n",
       "      <td>2021Q1</td>\n",
       "      <td>6.528260e+07</td>\n",
       "    </tr>\n",
       "    <tr>\n",
       "      <th>13</th>\n",
       "      <td>201.466577</td>\n",
       "      <td>212.018030</td>\n",
       "      <td>180.474633</td>\n",
       "      <td>2021Q2</td>\n",
       "      <td>6.858477e+07</td>\n",
       "    </tr>\n",
       "    <tr>\n",
       "      <th>14</th>\n",
       "      <td>195.252536</td>\n",
       "      <td>212.353978</td>\n",
       "      <td>190.428836</td>\n",
       "      <td>2021Q3</td>\n",
       "      <td>7.188440e+07</td>\n",
       "    </tr>\n",
       "    <tr>\n",
       "      <th>15</th>\n",
       "      <td>244.357096</td>\n",
       "      <td>256.919195</td>\n",
       "      <td>204.169518</td>\n",
       "      <td>2021Q4</td>\n",
       "      <td>7.338516e+07</td>\n",
       "    </tr>\n",
       "    <tr>\n",
       "      <th>16</th>\n",
       "      <td>216.918853</td>\n",
       "      <td>228.570924</td>\n",
       "      <td>224.782186</td>\n",
       "      <td>2022Q1</td>\n",
       "      <td>7.849144e+07</td>\n",
       "    </tr>\n",
       "    <tr>\n",
       "      <th>17</th>\n",
       "      <td>277.703995</td>\n",
       "      <td>263.150998</td>\n",
       "      <td>232.828093</td>\n",
       "      <td>2022Q2</td>\n",
       "      <td>8.097634e+07</td>\n",
       "    </tr>\n",
       "    <tr>\n",
       "      <th>18</th>\n",
       "      <td>232.016367</td>\n",
       "      <td>221.737402</td>\n",
       "      <td>225.505591</td>\n",
       "      <td>2022Q3</td>\n",
       "      <td>8.475901e+07</td>\n",
       "    </tr>\n",
       "    <tr>\n",
       "      <th>19</th>\n",
       "      <td>236.907783</td>\n",
       "      <td>229.923274</td>\n",
       "      <td>210.431065</td>\n",
       "      <td>2022Q4</td>\n",
       "      <td>8.789311e+07</td>\n",
       "    </tr>\n",
       "  </tbody>\n",
       "</table>\n",
       "</div>"
      ],
      "text/plain": [
       "    total_spend_index  gross_orders_index  weekly_active_users_index quarter  \\\n",
       "0            1.020328            1.231231                   2.212380  2018Q1   \n",
       "1            3.907097            3.719492                   5.080265  2018Q2   \n",
       "2            9.063225            9.020529                  12.989319  2018Q3   \n",
       "3           15.179657           16.395936                  19.686191  2018Q4   \n",
       "4           13.636270           14.917859                  25.002324  2019Q1   \n",
       "5           23.909396           23.957442                  32.189396  2019Q2   \n",
       "6           27.290086           28.153729                  41.530273  2019Q3   \n",
       "7           45.263284           46.241446                  54.220241  2019Q4   \n",
       "8           42.695804           51.010675                  73.601916  2020Q1   \n",
       "9           82.694949           95.808802                  99.068715  2020Q2   \n",
       "10         112.626123          123.970070                 130.651000  2020Q3   \n",
       "11         155.048659          175.637658                 150.094900  2020Q4   \n",
       "12         149.095657          171.724077                 161.821607  2021Q1   \n",
       "13         201.466577          212.018030                 180.474633  2021Q2   \n",
       "14         195.252536          212.353978                 190.428836  2021Q3   \n",
       "15         244.357096          256.919195                 204.169518  2021Q4   \n",
       "16         216.918853          228.570924                 224.782186  2022Q1   \n",
       "17         277.703995          263.150998                 232.828093  2022Q2   \n",
       "18         232.016367          221.737402                 225.505591  2022Q3   \n",
       "19         236.907783          229.923274                 210.431065  2022Q4   \n",
       "\n",
       "    order_number  \n",
       "0   3.502934e+07  \n",
       "1   3.688433e+07  \n",
       "2   3.870401e+07  \n",
       "3   4.096009e+07  \n",
       "4   4.327519e+07  \n",
       "5   4.550379e+07  \n",
       "6   4.774790e+07  \n",
       "7   5.049820e+07  \n",
       "8   5.304286e+07  \n",
       "9   5.619964e+07  \n",
       "10  5.864788e+07  \n",
       "11  6.210787e+07  \n",
       "12  6.528260e+07  \n",
       "13  6.858477e+07  \n",
       "14  7.188440e+07  \n",
       "15  7.338516e+07  \n",
       "16  7.849144e+07  \n",
       "17  8.097634e+07  \n",
       "18  8.475901e+07  \n",
       "19  8.789311e+07  "
      ]
     },
     "execution_count": 21,
     "metadata": {},
     "output_type": "execute_result"
    }
   ],
   "source": [
    "joined_df = pd.merge(transaction_quarterly, orders_quarterly, how = 'left', on = 'quarter')\n",
    "joined_df.head(20)"
   ]
  },
  {
   "cell_type": "markdown",
   "metadata": {},
   "source": [
    "# Feature Engineering"
   ]
  },
  {
   "cell_type": "code",
   "execution_count": 22,
   "metadata": {},
   "outputs": [],
   "source": [
    "# create a spend per user column\n",
    "joined_df[\"spend_per_user\"] = (\n",
    "    joined_df[\"total_spend_index\"] / joined_df[\"weekly_active_users_index\"]\n",
    ")"
   ]
  },
  {
   "cell_type": "code",
   "execution_count": 26,
   "metadata": {},
   "outputs": [],
   "source": [
    "joined_df[\"prev_spend_per_user\"] = joined_df[\"spend_per_user\"].shift(1)\n",
    "joined_df[\"prev_order_volume\"] = joined_df[\"order_number\"].shift(1)"
   ]
  },
  {
   "cell_type": "code",
   "execution_count": 27,
   "metadata": {},
   "outputs": [
    {
     "data": {
      "text/html": [
       "<div>\n",
       "<style scoped>\n",
       "    .dataframe tbody tr th:only-of-type {\n",
       "        vertical-align: middle;\n",
       "    }\n",
       "\n",
       "    .dataframe tbody tr th {\n",
       "        vertical-align: top;\n",
       "    }\n",
       "\n",
       "    .dataframe thead th {\n",
       "        text-align: right;\n",
       "    }\n",
       "</style>\n",
       "<table border=\"1\" class=\"dataframe\">\n",
       "  <thead>\n",
       "    <tr style=\"text-align: right;\">\n",
       "      <th></th>\n",
       "      <th>total_spend_index</th>\n",
       "      <th>gross_orders_index</th>\n",
       "      <th>weekly_active_users_index</th>\n",
       "      <th>quarter</th>\n",
       "      <th>order_number</th>\n",
       "      <th>spend_per_user</th>\n",
       "      <th>prev_spend_per_user</th>\n",
       "      <th>prev_order_volume</th>\n",
       "    </tr>\n",
       "  </thead>\n",
       "  <tbody>\n",
       "    <tr>\n",
       "      <th>0</th>\n",
       "      <td>1.020328</td>\n",
       "      <td>1.231231</td>\n",
       "      <td>2.212380</td>\n",
       "      <td>2018Q1</td>\n",
       "      <td>3.502934e+07</td>\n",
       "      <td>0.461190</td>\n",
       "      <td>NaN</td>\n",
       "      <td>NaN</td>\n",
       "    </tr>\n",
       "    <tr>\n",
       "      <th>1</th>\n",
       "      <td>3.907097</td>\n",
       "      <td>3.719492</td>\n",
       "      <td>5.080265</td>\n",
       "      <td>2018Q2</td>\n",
       "      <td>3.688433e+07</td>\n",
       "      <td>0.769073</td>\n",
       "      <td>0.461190</td>\n",
       "      <td>3.502934e+07</td>\n",
       "    </tr>\n",
       "    <tr>\n",
       "      <th>2</th>\n",
       "      <td>9.063225</td>\n",
       "      <td>9.020529</td>\n",
       "      <td>12.989319</td>\n",
       "      <td>2018Q3</td>\n",
       "      <td>3.870401e+07</td>\n",
       "      <td>0.697744</td>\n",
       "      <td>0.769073</td>\n",
       "      <td>3.688433e+07</td>\n",
       "    </tr>\n",
       "    <tr>\n",
       "      <th>3</th>\n",
       "      <td>15.179657</td>\n",
       "      <td>16.395936</td>\n",
       "      <td>19.686191</td>\n",
       "      <td>2018Q4</td>\n",
       "      <td>4.096009e+07</td>\n",
       "      <td>0.771081</td>\n",
       "      <td>0.697744</td>\n",
       "      <td>3.870401e+07</td>\n",
       "    </tr>\n",
       "    <tr>\n",
       "      <th>4</th>\n",
       "      <td>13.636270</td>\n",
       "      <td>14.917859</td>\n",
       "      <td>25.002324</td>\n",
       "      <td>2019Q1</td>\n",
       "      <td>4.327519e+07</td>\n",
       "      <td>0.545400</td>\n",
       "      <td>0.771081</td>\n",
       "      <td>4.096009e+07</td>\n",
       "    </tr>\n",
       "  </tbody>\n",
       "</table>\n",
       "</div>"
      ],
      "text/plain": [
       "   total_spend_index  gross_orders_index  weekly_active_users_index quarter  \\\n",
       "0           1.020328            1.231231                   2.212380  2018Q1   \n",
       "1           3.907097            3.719492                   5.080265  2018Q2   \n",
       "2           9.063225            9.020529                  12.989319  2018Q3   \n",
       "3          15.179657           16.395936                  19.686191  2018Q4   \n",
       "4          13.636270           14.917859                  25.002324  2019Q1   \n",
       "\n",
       "   order_number  spend_per_user  prev_spend_per_user  prev_order_volume  \n",
       "0  3.502934e+07        0.461190                  NaN                NaN  \n",
       "1  3.688433e+07        0.769073             0.461190       3.502934e+07  \n",
       "2  3.870401e+07        0.697744             0.769073       3.688433e+07  \n",
       "3  4.096009e+07        0.771081             0.697744       3.870401e+07  \n",
       "4  4.327519e+07        0.545400             0.771081       4.096009e+07  "
      ]
     },
     "execution_count": 27,
     "metadata": {},
     "output_type": "execute_result"
    }
   ],
   "source": [
    "joined_df.head()"
   ]
  }
 ],
 "metadata": {
  "kernelspec": {
   "display_name": "odp_screening",
   "language": "python",
   "name": "python3"
  },
  "language_info": {
   "codemirror_mode": {
    "name": "ipython",
    "version": 3
   },
   "file_extension": ".py",
   "mimetype": "text/x-python",
   "name": "python",
   "nbconvert_exporter": "python",
   "pygments_lexer": "ipython3",
   "version": "3.12.9"
  }
 },
 "nbformat": 4,
 "nbformat_minor": 2
}
