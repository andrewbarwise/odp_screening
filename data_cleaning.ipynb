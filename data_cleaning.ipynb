{
 "cells": [
  {
   "cell_type": "markdown",
   "metadata": {},
   "source": [
    "The aim of this notebook is to take the raw data and transform into a clean dataset set for modelling."
   ]
  },
  {
   "cell_type": "code",
   "execution_count": 1,
   "metadata": {},
   "outputs": [],
   "source": [
    "import pandas as pd\n",
    "import matplotlib.pyplot as plt"
   ]
  },
  {
   "cell_type": "code",
   "execution_count": 2,
   "metadata": {},
   "outputs": [],
   "source": [
    "order_numbers = pd.read_excel('data/data_task.xlsx', sheet_name='order_numbers')\n",
    "transaction_data = pd.read_excel('data/data_task.xlsx', sheet_name='transaction_data')\n",
    "reported_data = pd.read_excel('data/data_task.xlsx', sheet_name='reported_data')"
   ]
  },
  {
   "cell_type": "markdown",
   "metadata": {},
   "source": [
    "# Clean the order numbers df\n",
    "    - order df by date\n",
    "    - ensure the order numbers value increase (create boolean column) "
   ]
  },
  {
   "cell_type": "code",
   "execution_count": 3,
   "metadata": {},
   "outputs": [
    {
     "data": {
      "text/plain": [
       "(856, 2)"
      ]
     },
     "execution_count": 3,
     "metadata": {},
     "output_type": "execute_result"
    }
   ],
   "source": [
    "order_numbers.shape"
   ]
  },
  {
   "cell_type": "code",
   "execution_count": 4,
   "metadata": {},
   "outputs": [
    {
     "data": {
      "text/html": [
       "<div>\n",
       "<style scoped>\n",
       "    .dataframe tbody tr th:only-of-type {\n",
       "        vertical-align: middle;\n",
       "    }\n",
       "\n",
       "    .dataframe tbody tr th {\n",
       "        vertical-align: top;\n",
       "    }\n",
       "\n",
       "    .dataframe thead th {\n",
       "        text-align: right;\n",
       "    }\n",
       "</style>\n",
       "<table border=\"1\" class=\"dataframe\">\n",
       "  <thead>\n",
       "    <tr style=\"text-align: right;\">\n",
       "      <th></th>\n",
       "      <th>date</th>\n",
       "      <th>order_number</th>\n",
       "    </tr>\n",
       "  </thead>\n",
       "  <tbody>\n",
       "    <tr>\n",
       "      <th>0</th>\n",
       "      <td>2018-01-07</td>\n",
       "      <td>33841906</td>\n",
       "    </tr>\n",
       "    <tr>\n",
       "      <th>1</th>\n",
       "      <td>2018-01-22</td>\n",
       "      <td>34008921</td>\n",
       "    </tr>\n",
       "    <tr>\n",
       "      <th>2</th>\n",
       "      <td>2018-01-25</td>\n",
       "      <td>34397468</td>\n",
       "    </tr>\n",
       "    <tr>\n",
       "      <th>3</th>\n",
       "      <td>2018-02-06</td>\n",
       "      <td>34434432</td>\n",
       "    </tr>\n",
       "    <tr>\n",
       "      <th>4</th>\n",
       "      <td>2018-02-08</td>\n",
       "      <td>34579365</td>\n",
       "    </tr>\n",
       "  </tbody>\n",
       "</table>\n",
       "</div>"
      ],
      "text/plain": [
       "        date  order_number\n",
       "0 2018-01-07      33841906\n",
       "1 2018-01-22      34008921\n",
       "2 2018-01-25      34397468\n",
       "3 2018-02-06      34434432\n",
       "4 2018-02-08      34579365"
      ]
     },
     "execution_count": 4,
     "metadata": {},
     "output_type": "execute_result"
    }
   ],
   "source": [
    "order_numbers.head()"
   ]
  },
  {
   "cell_type": "code",
   "execution_count": 5,
   "metadata": {},
   "outputs": [
    {
     "data": {
      "text/plain": [
       "date            datetime64[ns]\n",
       "order_number             int64\n",
       "dtype: object"
      ]
     },
     "execution_count": 5,
     "metadata": {},
     "output_type": "execute_result"
    }
   ],
   "source": [
    "order_numbers.dtypes"
   ]
  },
  {
   "cell_type": "code",
   "execution_count": 6,
   "metadata": {},
   "outputs": [],
   "source": [
    "def validate_order(df, date_col, order_col):\n",
    "    # Ensure DataFrame is sorted by date\n",
    "    df = df.sort_values(by=date_col).reset_index(drop=True)\n",
    "\n",
    "    # Create Boolean column to check if order number is higher than the previous row\n",
    "    df[\"order_increasing\"] = df[order_col].diff() > 0  \n",
    "\n",
    "    # Set the first row to True (as there's no previous row to compare)\n",
    "    df.loc[0, \"order_increasing\"] = True \n",
    "\n",
    "    return df"
   ]
  },
  {
   "cell_type": "code",
   "execution_count": 7,
   "metadata": {},
   "outputs": [
    {
     "data": {
      "text/html": [
       "<div>\n",
       "<style scoped>\n",
       "    .dataframe tbody tr th:only-of-type {\n",
       "        vertical-align: middle;\n",
       "    }\n",
       "\n",
       "    .dataframe tbody tr th {\n",
       "        vertical-align: top;\n",
       "    }\n",
       "\n",
       "    .dataframe thead th {\n",
       "        text-align: right;\n",
       "    }\n",
       "</style>\n",
       "<table border=\"1\" class=\"dataframe\">\n",
       "  <thead>\n",
       "    <tr style=\"text-align: right;\">\n",
       "      <th></th>\n",
       "      <th>date</th>\n",
       "      <th>order_number</th>\n",
       "      <th>order_increasing</th>\n",
       "    </tr>\n",
       "  </thead>\n",
       "  <tbody>\n",
       "    <tr>\n",
       "      <th>0</th>\n",
       "      <td>2018-01-07</td>\n",
       "      <td>33841906</td>\n",
       "      <td>True</td>\n",
       "    </tr>\n",
       "    <tr>\n",
       "      <th>1</th>\n",
       "      <td>2018-01-22</td>\n",
       "      <td>34008921</td>\n",
       "      <td>True</td>\n",
       "    </tr>\n",
       "    <tr>\n",
       "      <th>2</th>\n",
       "      <td>2018-01-25</td>\n",
       "      <td>34397468</td>\n",
       "      <td>True</td>\n",
       "    </tr>\n",
       "    <tr>\n",
       "      <th>3</th>\n",
       "      <td>2018-02-06</td>\n",
       "      <td>34434432</td>\n",
       "      <td>True</td>\n",
       "    </tr>\n",
       "    <tr>\n",
       "      <th>4</th>\n",
       "      <td>2018-02-08</td>\n",
       "      <td>34579365</td>\n",
       "      <td>True</td>\n",
       "    </tr>\n",
       "    <tr>\n",
       "      <th>...</th>\n",
       "      <td>...</td>\n",
       "      <td>...</td>\n",
       "      <td>...</td>\n",
       "    </tr>\n",
       "    <tr>\n",
       "      <th>851</th>\n",
       "      <td>2022-12-26</td>\n",
       "      <td>89053562</td>\n",
       "      <td>True</td>\n",
       "    </tr>\n",
       "    <tr>\n",
       "      <th>852</th>\n",
       "      <td>2022-12-27</td>\n",
       "      <td>89078365</td>\n",
       "      <td>True</td>\n",
       "    </tr>\n",
       "    <tr>\n",
       "      <th>853</th>\n",
       "      <td>2022-12-28</td>\n",
       "      <td>89109007</td>\n",
       "      <td>True</td>\n",
       "    </tr>\n",
       "    <tr>\n",
       "      <th>854</th>\n",
       "      <td>2022-12-29</td>\n",
       "      <td>89139373</td>\n",
       "      <td>True</td>\n",
       "    </tr>\n",
       "    <tr>\n",
       "      <th>855</th>\n",
       "      <td>2022-12-30</td>\n",
       "      <td>89172576</td>\n",
       "      <td>True</td>\n",
       "    </tr>\n",
       "  </tbody>\n",
       "</table>\n",
       "<p>856 rows × 3 columns</p>\n",
       "</div>"
      ],
      "text/plain": [
       "          date  order_number  order_increasing\n",
       "0   2018-01-07      33841906              True\n",
       "1   2018-01-22      34008921              True\n",
       "2   2018-01-25      34397468              True\n",
       "3   2018-02-06      34434432              True\n",
       "4   2018-02-08      34579365              True\n",
       "..         ...           ...               ...\n",
       "851 2022-12-26      89053562              True\n",
       "852 2022-12-27      89078365              True\n",
       "853 2022-12-28      89109007              True\n",
       "854 2022-12-29      89139373              True\n",
       "855 2022-12-30      89172576              True\n",
       "\n",
       "[856 rows x 3 columns]"
      ]
     },
     "execution_count": 7,
     "metadata": {},
     "output_type": "execute_result"
    }
   ],
   "source": [
    "orders1 = validate_order(order_numbers, 'date', 'order_number')\n",
    "orders1"
   ]
  },
  {
   "cell_type": "code",
   "execution_count": 8,
   "metadata": {},
   "outputs": [
    {
     "data": {
      "text/plain": [
       "order_increasing\n",
       "True     638\n",
       "False    218\n",
       "Name: count, dtype: int64"
      ]
     },
     "execution_count": 8,
     "metadata": {},
     "output_type": "execute_result"
    }
   ],
   "source": [
    "orders1.value_counts('order_increasing')"
   ]
  },
  {
   "cell_type": "code",
   "execution_count": 9,
   "metadata": {},
   "outputs": [
    {
     "data": {
      "text/plain": [
       "order_increasing\n",
       "True    638\n",
       "Name: count, dtype: int64"
      ]
     },
     "execution_count": 9,
     "metadata": {},
     "output_type": "execute_result"
    }
   ],
   "source": [
    "# drop all rows where order_increasing == False\n",
    "\n",
    "orders2 = orders1[orders1['order_increasing'] == True]\n",
    "orders2.value_counts('order_increasing')"
   ]
  },
  {
   "cell_type": "code",
   "execution_count": 10,
   "metadata": {},
   "outputs": [
    {
     "data": {
      "text/html": [
       "<div>\n",
       "<style scoped>\n",
       "    .dataframe tbody tr th:only-of-type {\n",
       "        vertical-align: middle;\n",
       "    }\n",
       "\n",
       "    .dataframe tbody tr th {\n",
       "        vertical-align: top;\n",
       "    }\n",
       "\n",
       "    .dataframe thead th {\n",
       "        text-align: right;\n",
       "    }\n",
       "</style>\n",
       "<table border=\"1\" class=\"dataframe\">\n",
       "  <thead>\n",
       "    <tr style=\"text-align: right;\">\n",
       "      <th></th>\n",
       "      <th>date</th>\n",
       "      <th>order_number</th>\n",
       "      <th>order_increasing</th>\n",
       "    </tr>\n",
       "  </thead>\n",
       "  <tbody>\n",
       "    <tr>\n",
       "      <th>0</th>\n",
       "      <td>2018-01-07</td>\n",
       "      <td>33841906</td>\n",
       "      <td>True</td>\n",
       "    </tr>\n",
       "    <tr>\n",
       "      <th>1</th>\n",
       "      <td>2018-01-22</td>\n",
       "      <td>34008921</td>\n",
       "      <td>True</td>\n",
       "    </tr>\n",
       "    <tr>\n",
       "      <th>2</th>\n",
       "      <td>2018-01-25</td>\n",
       "      <td>34397468</td>\n",
       "      <td>True</td>\n",
       "    </tr>\n",
       "    <tr>\n",
       "      <th>3</th>\n",
       "      <td>2018-02-06</td>\n",
       "      <td>34434432</td>\n",
       "      <td>True</td>\n",
       "    </tr>\n",
       "    <tr>\n",
       "      <th>4</th>\n",
       "      <td>2018-02-08</td>\n",
       "      <td>34579365</td>\n",
       "      <td>True</td>\n",
       "    </tr>\n",
       "  </tbody>\n",
       "</table>\n",
       "</div>"
      ],
      "text/plain": [
       "        date  order_number  order_increasing\n",
       "0 2018-01-07      33841906              True\n",
       "1 2018-01-22      34008921              True\n",
       "2 2018-01-25      34397468              True\n",
       "3 2018-02-06      34434432              True\n",
       "4 2018-02-08      34579365              True"
      ]
     },
     "execution_count": 10,
     "metadata": {},
     "output_type": "execute_result"
    }
   ],
   "source": [
    "orders2.head()"
   ]
  },
  {
   "cell_type": "code",
   "execution_count": 11,
   "metadata": {},
   "outputs": [
    {
     "data": {
      "text/html": [
       "<div>\n",
       "<style scoped>\n",
       "    .dataframe tbody tr th:only-of-type {\n",
       "        vertical-align: middle;\n",
       "    }\n",
       "\n",
       "    .dataframe tbody tr th {\n",
       "        vertical-align: top;\n",
       "    }\n",
       "\n",
       "    .dataframe thead th {\n",
       "        text-align: right;\n",
       "    }\n",
       "</style>\n",
       "<table border=\"1\" class=\"dataframe\">\n",
       "  <thead>\n",
       "    <tr style=\"text-align: right;\">\n",
       "      <th></th>\n",
       "      <th>date</th>\n",
       "      <th>order_number</th>\n",
       "    </tr>\n",
       "  </thead>\n",
       "  <tbody>\n",
       "    <tr>\n",
       "      <th>0</th>\n",
       "      <td>2018-01-07</td>\n",
       "      <td>33841906</td>\n",
       "    </tr>\n",
       "    <tr>\n",
       "      <th>1</th>\n",
       "      <td>2018-01-22</td>\n",
       "      <td>34008921</td>\n",
       "    </tr>\n",
       "    <tr>\n",
       "      <th>2</th>\n",
       "      <td>2018-01-25</td>\n",
       "      <td>34397468</td>\n",
       "    </tr>\n",
       "    <tr>\n",
       "      <th>3</th>\n",
       "      <td>2018-02-06</td>\n",
       "      <td>34434432</td>\n",
       "    </tr>\n",
       "    <tr>\n",
       "      <th>4</th>\n",
       "      <td>2018-02-08</td>\n",
       "      <td>34579365</td>\n",
       "    </tr>\n",
       "  </tbody>\n",
       "</table>\n",
       "</div>"
      ],
      "text/plain": [
       "        date  order_number\n",
       "0 2018-01-07      33841906\n",
       "1 2018-01-22      34008921\n",
       "2 2018-01-25      34397468\n",
       "3 2018-02-06      34434432\n",
       "4 2018-02-08      34579365"
      ]
     },
     "execution_count": 11,
     "metadata": {},
     "output_type": "execute_result"
    }
   ],
   "source": [
    "# drop the feature 'order_increasing'\n",
    "\n",
    "orders3 = orders2.drop(columns=['order_increasing'])\n",
    "orders3.head()"
   ]
  },
  {
   "cell_type": "code",
   "execution_count": 12,
   "metadata": {},
   "outputs": [
    {
     "name": "stderr",
     "output_type": "stream",
     "text": [
      "/var/folders/nv/lzp9ffbj6cs24kjrpcj0q1ym0000gn/T/ipykernel_37301/3873680223.py:5: FutureWarning: 'Q' is deprecated and will be removed in a future version, please use 'QE' instead.\n",
      "  orders_quarterly = orders3.resample(\"Q\").sum().reset_index()\n"
     ]
    },
    {
     "data": {
      "text/html": [
       "<div>\n",
       "<style scoped>\n",
       "    .dataframe tbody tr th:only-of-type {\n",
       "        vertical-align: middle;\n",
       "    }\n",
       "\n",
       "    .dataframe tbody tr th {\n",
       "        vertical-align: top;\n",
       "    }\n",
       "\n",
       "    .dataframe thead th {\n",
       "        text-align: right;\n",
       "    }\n",
       "</style>\n",
       "<table border=\"1\" class=\"dataframe\">\n",
       "  <thead>\n",
       "    <tr style=\"text-align: right;\">\n",
       "      <th></th>\n",
       "      <th>order_number</th>\n",
       "      <th>quarter</th>\n",
       "    </tr>\n",
       "  </thead>\n",
       "  <tbody>\n",
       "    <tr>\n",
       "      <th>0</th>\n",
       "      <td>455381458</td>\n",
       "      <td>2018Q1</td>\n",
       "    </tr>\n",
       "    <tr>\n",
       "      <th>1</th>\n",
       "      <td>922108174</td>\n",
       "      <td>2018Q2</td>\n",
       "    </tr>\n",
       "    <tr>\n",
       "      <th>2</th>\n",
       "      <td>890192139</td>\n",
       "      <td>2018Q3</td>\n",
       "    </tr>\n",
       "    <tr>\n",
       "      <th>3</th>\n",
       "      <td>1515523453</td>\n",
       "      <td>2018Q4</td>\n",
       "    </tr>\n",
       "    <tr>\n",
       "      <th>4</th>\n",
       "      <td>1081879820</td>\n",
       "      <td>2019Q1</td>\n",
       "    </tr>\n",
       "  </tbody>\n",
       "</table>\n",
       "</div>"
      ],
      "text/plain": [
       "   order_number quarter\n",
       "0     455381458  2018Q1\n",
       "1     922108174  2018Q2\n",
       "2     890192139  2018Q3\n",
       "3    1515523453  2018Q4\n",
       "4    1081879820  2019Q1"
      ]
     },
     "execution_count": 12,
     "metadata": {},
     "output_type": "execute_result"
    }
   ],
   "source": [
    "# Resample to quarterly frequency and aggregate using sum\n",
    "# Set 'date' as the index for resampling\n",
    "orders3 = orders3.set_index(\"date\")\n",
    "\n",
    "orders_quarterly = orders3.resample(\"Q\").sum().reset_index()\n",
    "\n",
    "orders_quarterly['quarter'] = orders_quarterly['date'].dt.to_period('Q').astype(str)\n",
    "\n",
    "orders_quarterly = orders_quarterly.drop(columns=['date'])\n",
    "\n",
    "orders_quarterly.head()"
   ]
  },
  {
   "cell_type": "code",
   "execution_count": 13,
   "metadata": {},
   "outputs": [
    {
     "data": {
      "text/plain": [
       "(20, 2)"
      ]
     },
     "execution_count": 13,
     "metadata": {},
     "output_type": "execute_result"
    }
   ],
   "source": [
    "orders_quarterly.shape"
   ]
  },
  {
   "cell_type": "markdown",
   "metadata": {},
   "source": [
    "# Transaction data"
   ]
  },
  {
   "cell_type": "code",
   "execution_count": 14,
   "metadata": {},
   "outputs": [
    {
     "data": {
      "text/plain": [
       "(1826, 4)"
      ]
     },
     "execution_count": 14,
     "metadata": {},
     "output_type": "execute_result"
    }
   ],
   "source": [
    "transaction_data.shape"
   ]
  },
  {
   "cell_type": "code",
   "execution_count": 15,
   "metadata": {},
   "outputs": [
    {
     "data": {
      "text/plain": [
       "date                         datetime64[ns]\n",
       "total_spend_index                   float64\n",
       "gross_orders_index                  float64\n",
       "weekly_active_users_index           float64\n",
       "dtype: object"
      ]
     },
     "execution_count": 15,
     "metadata": {},
     "output_type": "execute_result"
    }
   ],
   "source": [
    "transaction_data.dtypes"
   ]
  },
  {
   "cell_type": "code",
   "execution_count": 16,
   "metadata": {},
   "outputs": [
    {
     "data": {
      "text/html": [
       "<div>\n",
       "<style scoped>\n",
       "    .dataframe tbody tr th:only-of-type {\n",
       "        vertical-align: middle;\n",
       "    }\n",
       "\n",
       "    .dataframe tbody tr th {\n",
       "        vertical-align: top;\n",
       "    }\n",
       "\n",
       "    .dataframe thead th {\n",
       "        text-align: right;\n",
       "    }\n",
       "</style>\n",
       "<table border=\"1\" class=\"dataframe\">\n",
       "  <thead>\n",
       "    <tr style=\"text-align: right;\">\n",
       "      <th></th>\n",
       "      <th>date</th>\n",
       "      <th>total_spend_index</th>\n",
       "      <th>gross_orders_index</th>\n",
       "      <th>weekly_active_users_index</th>\n",
       "    </tr>\n",
       "  </thead>\n",
       "  <tbody>\n",
       "    <tr>\n",
       "      <th>0</th>\n",
       "      <td>2018-01-01</td>\n",
       "      <td>0.052537</td>\n",
       "      <td>0.158983</td>\n",
       "      <td>1.563652</td>\n",
       "    </tr>\n",
       "    <tr>\n",
       "      <th>1</th>\n",
       "      <td>2018-01-02</td>\n",
       "      <td>0.839176</td>\n",
       "      <td>1.430843</td>\n",
       "      <td>1.628314</td>\n",
       "    </tr>\n",
       "    <tr>\n",
       "      <th>2</th>\n",
       "      <td>2018-01-03</td>\n",
       "      <td>0.182855</td>\n",
       "      <td>0.476948</td>\n",
       "      <td>1.633740</td>\n",
       "    </tr>\n",
       "    <tr>\n",
       "      <th>3</th>\n",
       "      <td>2018-01-04</td>\n",
       "      <td>2.364675</td>\n",
       "      <td>1.907790</td>\n",
       "      <td>1.657706</td>\n",
       "    </tr>\n",
       "    <tr>\n",
       "      <th>4</th>\n",
       "      <td>2018-01-05</td>\n",
       "      <td>0.687484</td>\n",
       "      <td>1.271860</td>\n",
       "      <td>1.679863</td>\n",
       "    </tr>\n",
       "  </tbody>\n",
       "</table>\n",
       "</div>"
      ],
      "text/plain": [
       "        date  total_spend_index  gross_orders_index  weekly_active_users_index\n",
       "0 2018-01-01           0.052537            0.158983                   1.563652\n",
       "1 2018-01-02           0.839176            1.430843                   1.628314\n",
       "2 2018-01-03           0.182855            0.476948                   1.633740\n",
       "3 2018-01-04           2.364675            1.907790                   1.657706\n",
       "4 2018-01-05           0.687484            1.271860                   1.679863"
      ]
     },
     "execution_count": 16,
     "metadata": {},
     "output_type": "execute_result"
    }
   ],
   "source": [
    "transaction_data.head()"
   ]
  },
  {
   "cell_type": "code",
   "execution_count": 17,
   "metadata": {},
   "outputs": [],
   "source": [
    "def date_sorting(df, date_col):\n",
    "\n",
    "    # Ensure DataFrame is sorted by date\n",
    "    df = df.sort_values(by=date_col).reset_index(drop=True)\n",
    "\n",
    "    return df"
   ]
  },
  {
   "cell_type": "code",
   "execution_count": 18,
   "metadata": {},
   "outputs": [
    {
     "data": {
      "text/html": [
       "<div>\n",
       "<style scoped>\n",
       "    .dataframe tbody tr th:only-of-type {\n",
       "        vertical-align: middle;\n",
       "    }\n",
       "\n",
       "    .dataframe tbody tr th {\n",
       "        vertical-align: top;\n",
       "    }\n",
       "\n",
       "    .dataframe thead th {\n",
       "        text-align: right;\n",
       "    }\n",
       "</style>\n",
       "<table border=\"1\" class=\"dataframe\">\n",
       "  <thead>\n",
       "    <tr style=\"text-align: right;\">\n",
       "      <th></th>\n",
       "      <th>date</th>\n",
       "      <th>total_spend_index</th>\n",
       "      <th>gross_orders_index</th>\n",
       "      <th>weekly_active_users_index</th>\n",
       "    </tr>\n",
       "  </thead>\n",
       "  <tbody>\n",
       "    <tr>\n",
       "      <th>0</th>\n",
       "      <td>2018-01-01</td>\n",
       "      <td>0.052537</td>\n",
       "      <td>0.158983</td>\n",
       "      <td>1.563652</td>\n",
       "    </tr>\n",
       "    <tr>\n",
       "      <th>1</th>\n",
       "      <td>2018-01-02</td>\n",
       "      <td>0.839176</td>\n",
       "      <td>1.430843</td>\n",
       "      <td>1.628314</td>\n",
       "    </tr>\n",
       "    <tr>\n",
       "      <th>2</th>\n",
       "      <td>2018-01-03</td>\n",
       "      <td>0.182855</td>\n",
       "      <td>0.476948</td>\n",
       "      <td>1.633740</td>\n",
       "    </tr>\n",
       "    <tr>\n",
       "      <th>3</th>\n",
       "      <td>2018-01-04</td>\n",
       "      <td>2.364675</td>\n",
       "      <td>1.907790</td>\n",
       "      <td>1.657706</td>\n",
       "    </tr>\n",
       "    <tr>\n",
       "      <th>4</th>\n",
       "      <td>2018-01-05</td>\n",
       "      <td>0.687484</td>\n",
       "      <td>1.271860</td>\n",
       "      <td>1.679863</td>\n",
       "    </tr>\n",
       "  </tbody>\n",
       "</table>\n",
       "</div>"
      ],
      "text/plain": [
       "        date  total_spend_index  gross_orders_index  weekly_active_users_index\n",
       "0 2018-01-01           0.052537            0.158983                   1.563652\n",
       "1 2018-01-02           0.839176            1.430843                   1.628314\n",
       "2 2018-01-03           0.182855            0.476948                   1.633740\n",
       "3 2018-01-04           2.364675            1.907790                   1.657706\n",
       "4 2018-01-05           0.687484            1.271860                   1.679863"
      ]
     },
     "execution_count": 18,
     "metadata": {},
     "output_type": "execute_result"
    }
   ],
   "source": [
    "transaction1 = date_sorting(transaction_data, 'date')\n",
    "transaction1.head()"
   ]
  },
  {
   "cell_type": "code",
   "execution_count": 19,
   "metadata": {},
   "outputs": [
    {
     "name": "stderr",
     "output_type": "stream",
     "text": [
      "/var/folders/nv/lzp9ffbj6cs24kjrpcj0q1ym0000gn/T/ipykernel_37301/2499572133.py:5: FutureWarning: 'Q' is deprecated and will be removed in a future version, please use 'QE' instead.\n",
      "  transaction_quarterly = transaction1.resample(\"Q\").sum().reset_index()\n"
     ]
    },
    {
     "data": {
      "text/html": [
       "<div>\n",
       "<style scoped>\n",
       "    .dataframe tbody tr th:only-of-type {\n",
       "        vertical-align: middle;\n",
       "    }\n",
       "\n",
       "    .dataframe tbody tr th {\n",
       "        vertical-align: top;\n",
       "    }\n",
       "\n",
       "    .dataframe thead th {\n",
       "        text-align: right;\n",
       "    }\n",
       "</style>\n",
       "<table border=\"1\" class=\"dataframe\">\n",
       "  <thead>\n",
       "    <tr style=\"text-align: right;\">\n",
       "      <th></th>\n",
       "      <th>total_spend_index</th>\n",
       "      <th>gross_orders_index</th>\n",
       "      <th>weekly_active_users_index</th>\n",
       "      <th>quarter</th>\n",
       "    </tr>\n",
       "  </thead>\n",
       "  <tbody>\n",
       "    <tr>\n",
       "      <th>0</th>\n",
       "      <td>91.829498</td>\n",
       "      <td>110.810811</td>\n",
       "      <td>199.114172</td>\n",
       "      <td>2018Q1</td>\n",
       "    </tr>\n",
       "    <tr>\n",
       "      <th>1</th>\n",
       "      <td>355.545853</td>\n",
       "      <td>338.473768</td>\n",
       "      <td>462.304148</td>\n",
       "      <td>2018Q2</td>\n",
       "    </tr>\n",
       "    <tr>\n",
       "      <th>2</th>\n",
       "      <td>833.816717</td>\n",
       "      <td>829.888712</td>\n",
       "      <td>1195.017386</td>\n",
       "      <td>2018Q3</td>\n",
       "    </tr>\n",
       "    <tr>\n",
       "      <th>3</th>\n",
       "      <td>1396.528405</td>\n",
       "      <td>1508.426073</td>\n",
       "      <td>1811.129600</td>\n",
       "      <td>2018Q4</td>\n",
       "    </tr>\n",
       "    <tr>\n",
       "      <th>4</th>\n",
       "      <td>1227.264316</td>\n",
       "      <td>1342.607313</td>\n",
       "      <td>2250.209135</td>\n",
       "      <td>2019Q1</td>\n",
       "    </tr>\n",
       "  </tbody>\n",
       "</table>\n",
       "</div>"
      ],
      "text/plain": [
       "   total_spend_index  gross_orders_index  weekly_active_users_index quarter\n",
       "0          91.829498          110.810811                 199.114172  2018Q1\n",
       "1         355.545853          338.473768                 462.304148  2018Q2\n",
       "2         833.816717          829.888712                1195.017386  2018Q3\n",
       "3        1396.528405         1508.426073                1811.129600  2018Q4\n",
       "4        1227.264316         1342.607313                2250.209135  2019Q1"
      ]
     },
     "execution_count": 19,
     "metadata": {},
     "output_type": "execute_result"
    }
   ],
   "source": [
    "\n",
    "# Set 'date' as the index for resampling\n",
    "transaction1 = transaction1.set_index(\"date\")\n",
    "\n",
    "# Resample to quarterly frequency and aggregate using sum\n",
    "transaction_quarterly = transaction1.resample(\"Q\").sum().reset_index()\n",
    "\n",
    "transaction_quarterly['quarter'] = transaction_quarterly['date'].dt.to_period('Q').astype(str)\n",
    "\n",
    "transaction_quarterly = transaction_quarterly.drop(columns=['date'])\n",
    "\n",
    "transaction_quarterly.head()"
   ]
  },
  {
   "cell_type": "code",
   "execution_count": 20,
   "metadata": {},
   "outputs": [
    {
     "data": {
      "text/plain": [
       "(20, 4)"
      ]
     },
     "execution_count": 20,
     "metadata": {},
     "output_type": "execute_result"
    }
   ],
   "source": [
    "transaction_quarterly.shape"
   ]
  },
  {
   "cell_type": "markdown",
   "metadata": {},
   "source": [
    "# join the order number data onto the transaction data, (left join to keep all the transaction data)"
   ]
  },
  {
   "cell_type": "code",
   "execution_count": 21,
   "metadata": {},
   "outputs": [
    {
     "data": {
      "text/html": [
       "<div>\n",
       "<style scoped>\n",
       "    .dataframe tbody tr th:only-of-type {\n",
       "        vertical-align: middle;\n",
       "    }\n",
       "\n",
       "    .dataframe tbody tr th {\n",
       "        vertical-align: top;\n",
       "    }\n",
       "\n",
       "    .dataframe thead th {\n",
       "        text-align: right;\n",
       "    }\n",
       "</style>\n",
       "<table border=\"1\" class=\"dataframe\">\n",
       "  <thead>\n",
       "    <tr style=\"text-align: right;\">\n",
       "      <th></th>\n",
       "      <th>total_spend_index</th>\n",
       "      <th>gross_orders_index</th>\n",
       "      <th>weekly_active_users_index</th>\n",
       "      <th>quarter</th>\n",
       "      <th>order_number</th>\n",
       "    </tr>\n",
       "  </thead>\n",
       "  <tbody>\n",
       "    <tr>\n",
       "      <th>0</th>\n",
       "      <td>91.829498</td>\n",
       "      <td>110.810811</td>\n",
       "      <td>199.114172</td>\n",
       "      <td>2018Q1</td>\n",
       "      <td>455381458</td>\n",
       "    </tr>\n",
       "    <tr>\n",
       "      <th>1</th>\n",
       "      <td>355.545853</td>\n",
       "      <td>338.473768</td>\n",
       "      <td>462.304148</td>\n",
       "      <td>2018Q2</td>\n",
       "      <td>922108174</td>\n",
       "    </tr>\n",
       "    <tr>\n",
       "      <th>2</th>\n",
       "      <td>833.816717</td>\n",
       "      <td>829.888712</td>\n",
       "      <td>1195.017386</td>\n",
       "      <td>2018Q3</td>\n",
       "      <td>890192139</td>\n",
       "    </tr>\n",
       "    <tr>\n",
       "      <th>3</th>\n",
       "      <td>1396.528405</td>\n",
       "      <td>1508.426073</td>\n",
       "      <td>1811.129600</td>\n",
       "      <td>2018Q4</td>\n",
       "      <td>1515523453</td>\n",
       "    </tr>\n",
       "    <tr>\n",
       "      <th>4</th>\n",
       "      <td>1227.264316</td>\n",
       "      <td>1342.607313</td>\n",
       "      <td>2250.209135</td>\n",
       "      <td>2019Q1</td>\n",
       "      <td>1081879820</td>\n",
       "    </tr>\n",
       "  </tbody>\n",
       "</table>\n",
       "</div>"
      ],
      "text/plain": [
       "   total_spend_index  gross_orders_index  weekly_active_users_index quarter  \\\n",
       "0          91.829498          110.810811                 199.114172  2018Q1   \n",
       "1         355.545853          338.473768                 462.304148  2018Q2   \n",
       "2         833.816717          829.888712                1195.017386  2018Q3   \n",
       "3        1396.528405         1508.426073                1811.129600  2018Q4   \n",
       "4        1227.264316         1342.607313                2250.209135  2019Q1   \n",
       "\n",
       "   order_number  \n",
       "0     455381458  \n",
       "1     922108174  \n",
       "2     890192139  \n",
       "3    1515523453  \n",
       "4    1081879820  "
      ]
     },
     "execution_count": 21,
     "metadata": {},
     "output_type": "execute_result"
    }
   ],
   "source": [
    "joined_df = pd.merge(transaction_quarterly, orders_quarterly, how = 'left', on = 'quarter')\n",
    "joined_df.head()"
   ]
  },
  {
   "cell_type": "markdown",
   "metadata": {},
   "source": [
    "# Feature Engineering"
   ]
  },
  {
   "cell_type": "code",
   "execution_count": 22,
   "metadata": {},
   "outputs": [],
   "source": [
    "# create a spend per user column\n",
    "joined_df[\"spend_per_user\"] = (\n",
    "    joined_df[\"total_spend_index\"] / joined_df[\"weekly_active_users_index\"]\n",
    ")"
   ]
  },
  {
   "cell_type": "code",
   "execution_count": 23,
   "metadata": {},
   "outputs": [],
   "source": [
    "# create some lag variables\n",
    "\n",
    "# one period back\n",
    "joined_df[\"prev_spend_per_user\"] = joined_df[\"spend_per_user\"].shift(1)\n",
    "joined_df[\"prev_order_volume\"] = joined_df[\"order_number\"].shift(1)\n",
    "joined_df[\"prev_weekly_active_orders_index\"] = joined_df[\"weekly_active_users_index\"].shift(1)\n",
    "joined_df[\"prev_total_spend_index\"] = joined_df[\"total_spend_index\"].shift(1)\n"
   ]
  },
  {
   "cell_type": "code",
   "execution_count": 24,
   "metadata": {},
   "outputs": [
    {
     "data": {
      "text/html": [
       "<div>\n",
       "<style scoped>\n",
       "    .dataframe tbody tr th:only-of-type {\n",
       "        vertical-align: middle;\n",
       "    }\n",
       "\n",
       "    .dataframe tbody tr th {\n",
       "        vertical-align: top;\n",
       "    }\n",
       "\n",
       "    .dataframe thead th {\n",
       "        text-align: right;\n",
       "    }\n",
       "</style>\n",
       "<table border=\"1\" class=\"dataframe\">\n",
       "  <thead>\n",
       "    <tr style=\"text-align: right;\">\n",
       "      <th></th>\n",
       "      <th>total_spend_index</th>\n",
       "      <th>gross_orders_index</th>\n",
       "      <th>weekly_active_users_index</th>\n",
       "      <th>quarter</th>\n",
       "      <th>order_number</th>\n",
       "      <th>spend_per_user</th>\n",
       "      <th>prev_spend_per_user</th>\n",
       "      <th>prev_order_volume</th>\n",
       "      <th>prev_weekly_active_orders_index</th>\n",
       "      <th>prev_total_spend_index</th>\n",
       "    </tr>\n",
       "  </thead>\n",
       "  <tbody>\n",
       "    <tr>\n",
       "      <th>0</th>\n",
       "      <td>91.829498</td>\n",
       "      <td>110.810811</td>\n",
       "      <td>199.114172</td>\n",
       "      <td>2018Q1</td>\n",
       "      <td>455381458</td>\n",
       "      <td>0.461190</td>\n",
       "      <td>NaN</td>\n",
       "      <td>NaN</td>\n",
       "      <td>NaN</td>\n",
       "      <td>NaN</td>\n",
       "    </tr>\n",
       "    <tr>\n",
       "      <th>1</th>\n",
       "      <td>355.545853</td>\n",
       "      <td>338.473768</td>\n",
       "      <td>462.304148</td>\n",
       "      <td>2018Q2</td>\n",
       "      <td>922108174</td>\n",
       "      <td>0.769073</td>\n",
       "      <td>0.461190</td>\n",
       "      <td>4.553815e+08</td>\n",
       "      <td>199.114172</td>\n",
       "      <td>91.829498</td>\n",
       "    </tr>\n",
       "    <tr>\n",
       "      <th>2</th>\n",
       "      <td>833.816717</td>\n",
       "      <td>829.888712</td>\n",
       "      <td>1195.017386</td>\n",
       "      <td>2018Q3</td>\n",
       "      <td>890192139</td>\n",
       "      <td>0.697744</td>\n",
       "      <td>0.769073</td>\n",
       "      <td>9.221082e+08</td>\n",
       "      <td>462.304148</td>\n",
       "      <td>355.545853</td>\n",
       "    </tr>\n",
       "    <tr>\n",
       "      <th>3</th>\n",
       "      <td>1396.528405</td>\n",
       "      <td>1508.426073</td>\n",
       "      <td>1811.129600</td>\n",
       "      <td>2018Q4</td>\n",
       "      <td>1515523453</td>\n",
       "      <td>0.771081</td>\n",
       "      <td>0.697744</td>\n",
       "      <td>8.901921e+08</td>\n",
       "      <td>1195.017386</td>\n",
       "      <td>833.816717</td>\n",
       "    </tr>\n",
       "    <tr>\n",
       "      <th>4</th>\n",
       "      <td>1227.264316</td>\n",
       "      <td>1342.607313</td>\n",
       "      <td>2250.209135</td>\n",
       "      <td>2019Q1</td>\n",
       "      <td>1081879820</td>\n",
       "      <td>0.545400</td>\n",
       "      <td>0.771081</td>\n",
       "      <td>1.515523e+09</td>\n",
       "      <td>1811.129600</td>\n",
       "      <td>1396.528405</td>\n",
       "    </tr>\n",
       "  </tbody>\n",
       "</table>\n",
       "</div>"
      ],
      "text/plain": [
       "   total_spend_index  gross_orders_index  weekly_active_users_index quarter  \\\n",
       "0          91.829498          110.810811                 199.114172  2018Q1   \n",
       "1         355.545853          338.473768                 462.304148  2018Q2   \n",
       "2         833.816717          829.888712                1195.017386  2018Q3   \n",
       "3        1396.528405         1508.426073                1811.129600  2018Q4   \n",
       "4        1227.264316         1342.607313                2250.209135  2019Q1   \n",
       "\n",
       "   order_number  spend_per_user  prev_spend_per_user  prev_order_volume  \\\n",
       "0     455381458        0.461190                  NaN                NaN   \n",
       "1     922108174        0.769073             0.461190       4.553815e+08   \n",
       "2     890192139        0.697744             0.769073       9.221082e+08   \n",
       "3    1515523453        0.771081             0.697744       8.901921e+08   \n",
       "4    1081879820        0.545400             0.771081       1.515523e+09   \n",
       "\n",
       "   prev_weekly_active_orders_index  prev_total_spend_index  \n",
       "0                              NaN                     NaN  \n",
       "1                       199.114172               91.829498  \n",
       "2                       462.304148              355.545853  \n",
       "3                      1195.017386              833.816717  \n",
       "4                      1811.129600             1396.528405  "
      ]
     },
     "execution_count": 24,
     "metadata": {},
     "output_type": "execute_result"
    }
   ],
   "source": [
    "joined_df.head()"
   ]
  },
  {
   "cell_type": "markdown",
   "metadata": {},
   "source": [
    "# Join the reported data"
   ]
  },
  {
   "cell_type": "code",
   "execution_count": 25,
   "metadata": {},
   "outputs": [
    {
     "data": {
      "text/html": [
       "<div>\n",
       "<style scoped>\n",
       "    .dataframe tbody tr th:only-of-type {\n",
       "        vertical-align: middle;\n",
       "    }\n",
       "\n",
       "    .dataframe tbody tr th {\n",
       "        vertical-align: top;\n",
       "    }\n",
       "\n",
       "    .dataframe thead th {\n",
       "        text-align: right;\n",
       "    }\n",
       "</style>\n",
       "<table border=\"1\" class=\"dataframe\">\n",
       "  <thead>\n",
       "    <tr style=\"text-align: right;\">\n",
       "      <th></th>\n",
       "      <th>period</th>\n",
       "      <th>start_date</th>\n",
       "      <th>end_date</th>\n",
       "      <th>revenue_index</th>\n",
       "    </tr>\n",
       "  </thead>\n",
       "  <tbody>\n",
       "    <tr>\n",
       "      <th>0</th>\n",
       "      <td>2018 Q1</td>\n",
       "      <td>2018-01-01</td>\n",
       "      <td>2018-02-28</td>\n",
       "      <td>100.000000</td>\n",
       "    </tr>\n",
       "    <tr>\n",
       "      <th>1</th>\n",
       "      <td>2018 Q2</td>\n",
       "      <td>2018-03-01</td>\n",
       "      <td>2018-06-30</td>\n",
       "      <td>253.521127</td>\n",
       "    </tr>\n",
       "    <tr>\n",
       "      <th>2</th>\n",
       "      <td>2018 Q3</td>\n",
       "      <td>2018-07-01</td>\n",
       "      <td>2018-08-31</td>\n",
       "      <td>139.788732</td>\n",
       "    </tr>\n",
       "    <tr>\n",
       "      <th>3</th>\n",
       "      <td>2018 Q4</td>\n",
       "      <td>2018-09-01</td>\n",
       "      <td>2018-12-31</td>\n",
       "      <td>306.161972</td>\n",
       "    </tr>\n",
       "    <tr>\n",
       "      <th>4</th>\n",
       "      <td>2019 Q1</td>\n",
       "      <td>2019-01-01</td>\n",
       "      <td>2019-02-28</td>\n",
       "      <td>117.693662</td>\n",
       "    </tr>\n",
       "  </tbody>\n",
       "</table>\n",
       "</div>"
      ],
      "text/plain": [
       "    period start_date   end_date  revenue_index\n",
       "0  2018 Q1 2018-01-01 2018-02-28     100.000000\n",
       "1  2018 Q2 2018-03-01 2018-06-30     253.521127\n",
       "2  2018 Q3 2018-07-01 2018-08-31     139.788732\n",
       "3  2018 Q4 2018-09-01 2018-12-31     306.161972\n",
       "4  2019 Q1 2019-01-01 2019-02-28     117.693662"
      ]
     },
     "execution_count": 25,
     "metadata": {},
     "output_type": "execute_result"
    }
   ],
   "source": [
    "reported_data.head()"
   ]
  },
  {
   "cell_type": "code",
   "execution_count": null,
   "metadata": {},
   "outputs": [
    {
     "data": {
      "text/html": [
       "<div>\n",
       "<style scoped>\n",
       "    .dataframe tbody tr th:only-of-type {\n",
       "        vertical-align: middle;\n",
       "    }\n",
       "\n",
       "    .dataframe tbody tr th {\n",
       "        vertical-align: top;\n",
       "    }\n",
       "\n",
       "    .dataframe thead th {\n",
       "        text-align: right;\n",
       "    }\n",
       "</style>\n",
       "<table border=\"1\" class=\"dataframe\">\n",
       "  <thead>\n",
       "    <tr style=\"text-align: right;\">\n",
       "      <th></th>\n",
       "      <th>period</th>\n",
       "      <th>start_date</th>\n",
       "      <th>end_date</th>\n",
       "      <th>revenue_index</th>\n",
       "    </tr>\n",
       "  </thead>\n",
       "  <tbody>\n",
       "    <tr>\n",
       "      <th>0</th>\n",
       "      <td>2018Q1</td>\n",
       "      <td>2018-01-01</td>\n",
       "      <td>2018-02-28</td>\n",
       "      <td>100.000000</td>\n",
       "    </tr>\n",
       "    <tr>\n",
       "      <th>1</th>\n",
       "      <td>2018Q2</td>\n",
       "      <td>2018-03-01</td>\n",
       "      <td>2018-06-30</td>\n",
       "      <td>253.521127</td>\n",
       "    </tr>\n",
       "    <tr>\n",
       "      <th>2</th>\n",
       "      <td>2018Q3</td>\n",
       "      <td>2018-07-01</td>\n",
       "      <td>2018-08-31</td>\n",
       "      <td>139.788732</td>\n",
       "    </tr>\n",
       "    <tr>\n",
       "      <th>3</th>\n",
       "      <td>2018Q4</td>\n",
       "      <td>2018-09-01</td>\n",
       "      <td>2018-12-31</td>\n",
       "      <td>306.161972</td>\n",
       "    </tr>\n",
       "    <tr>\n",
       "      <th>4</th>\n",
       "      <td>2019Q1</td>\n",
       "      <td>2019-01-01</td>\n",
       "      <td>2019-02-28</td>\n",
       "      <td>117.693662</td>\n",
       "    </tr>\n",
       "  </tbody>\n",
       "</table>\n",
       "</div>"
      ],
      "text/plain": [
       "   period start_date   end_date  revenue_index\n",
       "0  2018Q1 2018-01-01 2018-02-28     100.000000\n",
       "1  2018Q2 2018-03-01 2018-06-30     253.521127\n",
       "2  2018Q3 2018-07-01 2018-08-31     139.788732\n",
       "3  2018Q4 2018-09-01 2018-12-31     306.161972\n",
       "4  2019Q1 2019-01-01 2019-02-28     117.693662"
      ]
     },
     "execution_count": 26,
     "metadata": {},
     "output_type": "execute_result"
    }
   ],
   "source": [
    "# remove the whitespace in the period column to ensure accurate join\n",
    "\n",
    "reported_data['period'] = reported_data['period'].str.replace(r'\\s+', '', regex=True)\n",
    "reported_data.head()"
   ]
  },
  {
   "cell_type": "code",
   "execution_count": 30,
   "metadata": {},
   "outputs": [
    {
     "data": {
      "text/html": [
       "<div>\n",
       "<style scoped>\n",
       "    .dataframe tbody tr th:only-of-type {\n",
       "        vertical-align: middle;\n",
       "    }\n",
       "\n",
       "    .dataframe tbody tr th {\n",
       "        vertical-align: top;\n",
       "    }\n",
       "\n",
       "    .dataframe thead th {\n",
       "        text-align: right;\n",
       "    }\n",
       "</style>\n",
       "<table border=\"1\" class=\"dataframe\">\n",
       "  <thead>\n",
       "    <tr style=\"text-align: right;\">\n",
       "      <th></th>\n",
       "      <th>period</th>\n",
       "      <th>start_date</th>\n",
       "      <th>end_date</th>\n",
       "      <th>revenue_index</th>\n",
       "      <th>total_spend_index</th>\n",
       "      <th>gross_orders_index</th>\n",
       "      <th>weekly_active_users_index</th>\n",
       "      <th>quarter</th>\n",
       "      <th>order_number</th>\n",
       "      <th>spend_per_user</th>\n",
       "      <th>prev_spend_per_user</th>\n",
       "      <th>prev_order_volume</th>\n",
       "      <th>prev_weekly_active_orders_index</th>\n",
       "      <th>prev_total_spend_index</th>\n",
       "    </tr>\n",
       "  </thead>\n",
       "  <tbody>\n",
       "    <tr>\n",
       "      <th>0</th>\n",
       "      <td>2018Q1</td>\n",
       "      <td>2018-01-01</td>\n",
       "      <td>2018-02-28</td>\n",
       "      <td>100.000000</td>\n",
       "      <td>91.829498</td>\n",
       "      <td>110.810811</td>\n",
       "      <td>199.114172</td>\n",
       "      <td>2018Q1</td>\n",
       "      <td>455381458</td>\n",
       "      <td>0.461190</td>\n",
       "      <td>NaN</td>\n",
       "      <td>NaN</td>\n",
       "      <td>NaN</td>\n",
       "      <td>NaN</td>\n",
       "    </tr>\n",
       "    <tr>\n",
       "      <th>1</th>\n",
       "      <td>2018Q2</td>\n",
       "      <td>2018-03-01</td>\n",
       "      <td>2018-06-30</td>\n",
       "      <td>253.521127</td>\n",
       "      <td>355.545853</td>\n",
       "      <td>338.473768</td>\n",
       "      <td>462.304148</td>\n",
       "      <td>2018Q2</td>\n",
       "      <td>922108174</td>\n",
       "      <td>0.769073</td>\n",
       "      <td>0.461190</td>\n",
       "      <td>4.553815e+08</td>\n",
       "      <td>199.114172</td>\n",
       "      <td>91.829498</td>\n",
       "    </tr>\n",
       "    <tr>\n",
       "      <th>2</th>\n",
       "      <td>2018Q3</td>\n",
       "      <td>2018-07-01</td>\n",
       "      <td>2018-08-31</td>\n",
       "      <td>139.788732</td>\n",
       "      <td>833.816717</td>\n",
       "      <td>829.888712</td>\n",
       "      <td>1195.017386</td>\n",
       "      <td>2018Q3</td>\n",
       "      <td>890192139</td>\n",
       "      <td>0.697744</td>\n",
       "      <td>0.769073</td>\n",
       "      <td>9.221082e+08</td>\n",
       "      <td>462.304148</td>\n",
       "      <td>355.545853</td>\n",
       "    </tr>\n",
       "    <tr>\n",
       "      <th>3</th>\n",
       "      <td>2018Q4</td>\n",
       "      <td>2018-09-01</td>\n",
       "      <td>2018-12-31</td>\n",
       "      <td>306.161972</td>\n",
       "      <td>1396.528405</td>\n",
       "      <td>1508.426073</td>\n",
       "      <td>1811.129600</td>\n",
       "      <td>2018Q4</td>\n",
       "      <td>1515523453</td>\n",
       "      <td>0.771081</td>\n",
       "      <td>0.697744</td>\n",
       "      <td>8.901921e+08</td>\n",
       "      <td>1195.017386</td>\n",
       "      <td>833.816717</td>\n",
       "    </tr>\n",
       "    <tr>\n",
       "      <th>4</th>\n",
       "      <td>2019Q1</td>\n",
       "      <td>2019-01-01</td>\n",
       "      <td>2019-02-28</td>\n",
       "      <td>117.693662</td>\n",
       "      <td>1227.264316</td>\n",
       "      <td>1342.607313</td>\n",
       "      <td>2250.209135</td>\n",
       "      <td>2019Q1</td>\n",
       "      <td>1081879820</td>\n",
       "      <td>0.545400</td>\n",
       "      <td>0.771081</td>\n",
       "      <td>1.515523e+09</td>\n",
       "      <td>1811.129600</td>\n",
       "      <td>1396.528405</td>\n",
       "    </tr>\n",
       "  </tbody>\n",
       "</table>\n",
       "</div>"
      ],
      "text/plain": [
       "   period start_date   end_date  revenue_index  total_spend_index  \\\n",
       "0  2018Q1 2018-01-01 2018-02-28     100.000000          91.829498   \n",
       "1  2018Q2 2018-03-01 2018-06-30     253.521127         355.545853   \n",
       "2  2018Q3 2018-07-01 2018-08-31     139.788732         833.816717   \n",
       "3  2018Q4 2018-09-01 2018-12-31     306.161972        1396.528405   \n",
       "4  2019Q1 2019-01-01 2019-02-28     117.693662        1227.264316   \n",
       "\n",
       "   gross_orders_index  weekly_active_users_index quarter  order_number  \\\n",
       "0          110.810811                 199.114172  2018Q1     455381458   \n",
       "1          338.473768                 462.304148  2018Q2     922108174   \n",
       "2          829.888712                1195.017386  2018Q3     890192139   \n",
       "3         1508.426073                1811.129600  2018Q4    1515523453   \n",
       "4         1342.607313                2250.209135  2019Q1    1081879820   \n",
       "\n",
       "   spend_per_user  prev_spend_per_user  prev_order_volume  \\\n",
       "0        0.461190                  NaN                NaN   \n",
       "1        0.769073             0.461190       4.553815e+08   \n",
       "2        0.697744             0.769073       9.221082e+08   \n",
       "3        0.771081             0.697744       8.901921e+08   \n",
       "4        0.545400             0.771081       1.515523e+09   \n",
       "\n",
       "   prev_weekly_active_orders_index  prev_total_spend_index  \n",
       "0                              NaN                     NaN  \n",
       "1                       199.114172               91.829498  \n",
       "2                       462.304148              355.545853  \n",
       "3                      1195.017386              833.816717  \n",
       "4                      1811.129600             1396.528405  "
      ]
     },
     "execution_count": 30,
     "metadata": {},
     "output_type": "execute_result"
    }
   ],
   "source": [
    "main_df = pd.merge(reported_data, joined_df, how = 'left', left_on = 'period', right_on= 'quarter')\n",
    "main_df.head()"
   ]
  },
  {
   "cell_type": "code",
   "execution_count": 28,
   "metadata": {},
   "outputs": [],
   "source": [
    "main_df.to_csv('data/modelling_data.csv')"
   ]
  }
 ],
 "metadata": {
  "kernelspec": {
   "display_name": "odp_screening",
   "language": "python",
   "name": "python3"
  },
  "language_info": {
   "codemirror_mode": {
    "name": "ipython",
    "version": 3
   },
   "file_extension": ".py",
   "mimetype": "text/x-python",
   "name": "python",
   "nbconvert_exporter": "python",
   "pygments_lexer": "ipython3",
   "version": "3.12.9"
  }
 },
 "nbformat": 4,
 "nbformat_minor": 2
}
